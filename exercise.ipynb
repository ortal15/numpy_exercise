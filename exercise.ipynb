{
 "cells": [
  {
   "cell_type": "code",
   "execution_count": 1,
   "id": "47c35a8e-88a7-44fa-9475-40f6d69d4c37",
   "metadata": {},
   "outputs": [],
   "source": [
    "import numpy as np\n",
    "from IPython.display import display\n"
   ]
  },
  {
   "cell_type": "code",
   "execution_count": 2,
   "id": "bbc13d0f-7f84-4586-bee3-30a2e1778192",
   "metadata": {},
   "outputs": [
    {
     "name": "stdout",
     "output_type": "stream",
     "text": [
      "[18 19 20 21 22 23 24 25 26 27 28 29 30 31 32 33 34 35 36 37 38 39 40 41\n",
      " 42 43 44 45 46 47 48 49 50 51 52 53]\n"
     ]
    }
   ],
   "source": [
    "#1\n",
    "num= np.arange(18, 54)\n",
    "print(num)"
   ]
  },
  {
   "cell_type": "code",
   "execution_count": 16,
   "id": "c9ae1305-381d-403c-8ec9-def60e76b2ba",
   "metadata": {},
   "outputs": [
    {
     "name": "stdout",
     "output_type": "stream",
     "text": [
      "[[18 19 20 21 22 23]\n",
      " [24 25 26 27 28 29]\n",
      " [30 31 32 33 34 35]\n",
      " [36 37 38 39 40 41]\n",
      " [42 43 44 45 46 47]\n",
      " [48 49 50 51 52 53]]\n"
     ]
    }
   ],
   "source": [
    "#2\n",
    "num_c=num.reshape(-1, 6) \n",
    "print(num_c)"
   ]
  },
  {
   "cell_type": "code",
   "execution_count": 21,
   "id": "d954c674-b6cb-40e0-8057-79d37027293a",
   "metadata": {},
   "outputs": [
    {
     "name": "stdout",
     "output_type": "stream",
     "text": [
      "39\n"
     ]
    }
   ],
   "source": [
    "#3\n",
    "print(num_c[3][3])"
   ]
  },
  {
   "cell_type": "code",
   "execution_count": 28,
   "id": "1c35632d-8ce7-40a4-b175-d04d33481339",
   "metadata": {},
   "outputs": [
    {
     "data": {
      "text/plain": [
       "56"
      ]
     },
     "execution_count": 28,
     "metadata": {},
     "output_type": "execute_result"
    }
   ],
   "source": [
    "#4\n",
    "17+39\n",
    "#לא"
   ]
  },
  {
   "cell_type": "code",
   "execution_count": 29,
   "id": "a7be713f-c7fe-4472-8e1c-9cab44036a11",
   "metadata": {},
   "outputs": [
    {
     "name": "stdout",
     "output_type": "stream",
     "text": [
      "[[51 92 14 71 60]\n",
      " [20 82 86 74 74]\n",
      " [87 99 23  2 21]\n",
      " [52  1 87 29 37]\n",
      " [ 1 63 59 20 32]]\n",
      "56.5\n"
     ]
    }
   ],
   "source": [
    "'''תרגיל 2'''\n",
    "#1\n",
    "np.random.seed(42)\n",
    "rand_array = np.random.randint(0, 101, (5, 5))\n",
    "print(rand_array)\n",
    "max_num = rand_array.max()\n",
    "a = max_num / 2+7\n",
    "print(a)\n",
    "#לא"
   ]
  }
 ],
 "metadata": {
  "kernelspec": {
   "display_name": "Python 3 (ipykernel)",
   "language": "python",
   "name": "python3"
  },
  "language_info": {
   "codemirror_mode": {
    "name": "ipython",
    "version": 3
   },
   "file_extension": ".py",
   "mimetype": "text/x-python",
   "name": "python",
   "nbconvert_exporter": "python",
   "pygments_lexer": "ipython3",
   "version": "3.12.7"
  }
 },
 "nbformat": 4,
 "nbformat_minor": 5
}
